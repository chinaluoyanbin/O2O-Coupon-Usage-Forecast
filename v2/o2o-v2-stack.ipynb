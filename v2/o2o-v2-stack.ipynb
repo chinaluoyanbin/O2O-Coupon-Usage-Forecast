{
 "cells": [
  {
   "cell_type": "code",
   "execution_count": 15,
   "metadata": {},
   "outputs": [],
   "source": [
    "import pandas as pd\n",
    "import numpy as np\n",
    "from datetime import date\n",
    "import os\n",
    "import matplotlib.pyplot as plt\n",
    "import seaborn as sns\n",
    "import logging\n",
    "\n",
    "# %env JOBLIB_TEMP_FOLDER=/tmp\n",
    "%matplotlib inline\n",
    "\n",
    "from xgboost.sklearn import XGBClassifier\n",
    "from sklearn.ensemble import GradientBoostingClassifier\n",
    "from sklearn.linear_model import LogisticRegression, LinearRegression\n",
    "from sklearn.ensemble import RandomForestClassifier\n",
    "from heamy.dataset import Dataset\n",
    "from heamy.estimator import Regressor, Classifier\n",
    "from heamy.pipeline import ModelsPipeline\n",
    "\n",
    "from sklearn.model_selection import GridSearchCV\n",
    "from sklearn.feature_selection import RFE\n",
    "from sklearn.preprocessing import MinMaxScaler\n",
    "from sklearn import metrics\n",
    "\n",
    "import warnings\n",
    "warnings.filterwarnings('ignore')\n",
    "\n",
    "# pd.set_option('display.max_rows', None)\n",
    "pd.set_option('display.max_columns', None)\n",
    "logger = logging.getLogger()\n",
    "logger.setLevel(logging.INFO)\n",
    "logger_output = logging.FileHandler('o2o-v2-stack.log', mode='a')\n",
    "logger_output.setLevel(logging.DEBUG)\n",
    "formatter = logging.Formatter(\"[%(asctime)s]: %(message)s\")\n",
    "logger_output.setFormatter(formatter)\n",
    "logger.addHandler(logger_output)"
   ]
  },
  {
   "cell_type": "code",
   "execution_count": 9,
   "metadata": {},
   "outputs": [],
   "source": [
    "def get_model_input(model='gbdt', set_param=False, train=False, pred=False):\n",
    "    dataset1 = pd.read_csv('../input/dataset1.csv')\n",
    "    dataset2 = pd.read_csv('../input/dataset2.csv')\n",
    "    dataset3 = pd.read_csv('../input/dataset3.csv')\n",
    "    Submission = pd.read_csv('../input/Submission.csv')\n",
    "    print('...read dataset complete...')\n",
    "\n",
    "    if model != 'xgb':\n",
    "        # 如果模型不是xgb填充-999\n",
    "        dataset1.fillna(-999, inplace=True)\n",
    "        dataset2.fillna(-999, inplace=True)\n",
    "        dataset3.fillna(-999, inplace=True)\n",
    "    dataset = pd.concat([dataset1, dataset2], axis=0)\n",
    "    if set_param:\n",
    "        Y_train = dataset1[['label']]\n",
    "        X_train = dataset1.drop(columns='label')\n",
    "        return X_train, Y_train\n",
    "    if train:\n",
    "        split_point = len(dataset) * 4 // 5\n",
    "        train_data = dataset.iloc[: split_point, :]\n",
    "        test_data = dataset.iloc[split_point:, :]\n",
    "        Y_train = train_data[['label']]\n",
    "        X_train = train_data.drop(columns='label')\n",
    "        Y_test = test_data[['label']]\n",
    "        X_test = test_data.drop(columns='label')\n",
    "        print(dataset.shape, train_data.shape, test_data.shape)\n",
    "        return X_train, Y_train, X_test, Y_test\n",
    "    if pred:\n",
    "        Y_train = dataset[['label']]\n",
    "        X_train = dataset.drop(columns='label')\n",
    "        X_pred = dataset3\n",
    "        return X_train, Y_train, X_pred, Submission"
   ]
  },
  {
   "cell_type": "code",
   "execution_count": 10,
   "metadata": {},
   "outputs": [
    {
     "name": "stdout",
     "output_type": "stream",
     "text": [
      "...read dataset complete...\n"
     ]
    }
   ],
   "source": [
    "# stack\n",
    "# load data\n",
    "X_train, Y_train, X_pred, Submission = get_model_input(model='stack', pred=True)"
   ]
  },
  {
   "cell_type": "code",
   "execution_count": 11,
   "metadata": {},
   "outputs": [],
   "source": [
    "# creat dataset\n",
    "dataset = Dataset(X_train, Y_train, X_pred)"
   ]
  },
  {
   "cell_type": "code",
   "execution_count": 12,
   "metadata": {},
   "outputs": [],
   "source": [
    "# initialize model\n",
    "gbdt_params = {'verbose': 1, 'learning_rate': 0.1, 'n_estimators': 80, 'subsample': 0.8, 'max_features': 'sqrt', 'min_samples_leaf': 60, 'min_samples_split': 210, 'max_depth': 12}\n",
    "model_gbdt = Classifier(dataset=dataset, estimator=GradientBoostingClassifier, parameters=gbdt_params, name='gbdt')\n",
    "rf_params = {'verbose': 1, 'n_estimators': 80, 'max_features': 'sqrt', 'min_samples_leaf': 20, 'min_samples_split': 60, 'max_depth': 20}\n",
    "model_rf = Classifier(dataset=dataset, estimator=RandomForestClassifier, parameters=rf_params, name='rf')"
   ]
  },
  {
   "cell_type": "code",
   "execution_count": 13,
   "metadata": {},
   "outputs": [
    {
     "name": "stdout",
     "output_type": "stream",
     "text": [
      "      Iter       Train Loss      OOB Improve   Remaining Time \n",
      "         1           0.5908           0.0539            5.64m\n",
      "         2           0.5570           0.0312            5.99m\n",
      "         3           0.5303           0.0241            6.05m\n",
      "         4           0.5107           0.0188            5.99m\n",
      "         5           0.4946           0.0147            5.73m\n",
      "         6           0.4824           0.0124            5.72m\n",
      "         7           0.4694           0.0102            5.66m\n",
      "         8           0.4589           0.0090            5.62m\n",
      "         9           0.4509           0.0076            5.55m\n",
      "        10           0.4427           0.0063            5.45m\n",
      "        20           0.4016           0.0017            4.41m\n",
      "        30           0.3824           0.0007            3.46m\n",
      "        40           0.3715           0.0003            2.62m\n",
      "        50           0.3648           0.0002            1.83m\n",
      "        60           0.3588           0.0002            1.15m\n",
      "        70           0.3539           0.0000           32.66s\n",
      "        80           0.3487          -0.0001            0.00s\n",
      "      Iter       Train Loss      OOB Improve   Remaining Time \n",
      "         1           0.5954           0.0527            6.42m\n",
      "         2           0.5617           0.0319            6.74m\n",
      "         3           0.5361           0.0244            7.20m\n",
      "         4           0.5157           0.0187            6.82m\n",
      "         5           0.4990           0.0154            6.87m\n",
      "         6           0.4844           0.0132            6.91m\n",
      "         7           0.4740           0.0106            6.85m\n",
      "         8           0.4649           0.0091            6.72m\n",
      "         9           0.4558           0.0078            6.54m\n",
      "        10           0.4465           0.0066            6.27m\n",
      "        20           0.4003           0.0016            4.94m\n",
      "        30           0.3840           0.0007            3.88m\n",
      "        40           0.3709           0.0003            2.83m\n",
      "        50           0.3647          -0.0000            1.97m\n",
      "        60           0.3595           0.0001            1.22m\n",
      "        70           0.3534          -0.0000           35.23s\n",
      "        80           0.3492          -0.0000            0.00s\n",
      "      Iter       Train Loss      OOB Improve   Remaining Time \n",
      "         1           0.5898           0.0524            7.61m\n",
      "         2           0.5580           0.0321            6.96m\n",
      "         3           0.5328           0.0229            6.75m\n",
      "         4           0.5120           0.0182            6.51m\n",
      "         5           0.4974           0.0152            6.37m\n",
      "         6           0.4846           0.0121            6.29m\n",
      "         7           0.4716           0.0108            6.07m\n",
      "         8           0.4621           0.0088            5.84m\n",
      "         9           0.4525           0.0077            5.72m\n",
      "        10           0.4459           0.0064            5.72m\n",
      "        20           0.4009           0.0021            4.72m\n",
      "        30           0.3818           0.0008            3.70m\n",
      "        40           0.3727           0.0005            2.81m\n",
      "        50           0.3633           0.0001            1.94m\n",
      "        60           0.3562           0.0000            1.23m\n",
      "        70           0.3520           0.0001           35.07s\n",
      "        80           0.3451           0.0000            0.00s\n",
      "      Iter       Train Loss      OOB Improve   Remaining Time \n",
      "         1           0.5930           0.0518            5.79m\n",
      "         2           0.5590           0.0331            6.35m\n",
      "         3           0.5340           0.0253            6.34m\n",
      "         4           0.5135           0.0184            6.57m\n",
      "         5           0.4990           0.0144            6.40m\n",
      "         6           0.4832           0.0126            6.34m\n",
      "         7           0.4721           0.0110            6.17m\n",
      "         8           0.4645           0.0090            6.09m\n",
      "         9           0.4540           0.0082            5.87m\n",
      "        10           0.4460           0.0069            5.72m\n",
      "        20           0.4016           0.0018            4.51m\n",
      "        30           0.3820           0.0007            3.53m\n",
      "        40           0.3728           0.0004            2.65m\n",
      "        50           0.3646           0.0000            1.85m\n",
      "        60           0.3587           0.0000            1.16m\n",
      "        70           0.3528          -0.0000           32.97s\n",
      "        80           0.3483           0.0001            0.00s\n",
      "      Iter       Train Loss      OOB Improve   Remaining Time \n",
      "         1           0.5862           0.0570            6.23m\n",
      "         2           0.5547           0.0313            6.43m\n",
      "         3           0.5306           0.0232            6.26m\n",
      "         4           0.5107           0.0191            6.20m\n",
      "         5           0.4953           0.0151            5.93m\n",
      "         6           0.4799           0.0123            5.75m\n",
      "         7           0.4694           0.0106            5.66m\n",
      "         8           0.4604           0.0086            5.51m\n",
      "         9           0.4508           0.0079            5.50m\n",
      "        10           0.4425           0.0065            5.36m\n",
      "        20           0.4006           0.0019            4.14m\n",
      "        30           0.3821           0.0007            3.26m\n",
      "        40           0.3714           0.0004            2.40m\n",
      "        50           0.3639           0.0001            1.69m\n",
      "        60           0.3577           0.0001            1.05m\n",
      "        70           0.3543           0.0001           29.77s\n",
      "        80           0.3481           0.0000            0.00s\n",
      "      Iter       Train Loss      OOB Improve   Remaining Time \n",
      "         1           0.5914           0.0548            9.08m\n",
      "         2           0.5572           0.0323            9.12m\n",
      "         3           0.5316           0.0234            8.68m\n",
      "         4           0.5129           0.0189            8.92m\n",
      "         5           0.4972           0.0152            8.65m\n",
      "         6           0.4825           0.0123            8.50m\n",
      "         7           0.4725           0.0104            8.38m\n",
      "         8           0.4623           0.0091            8.15m\n",
      "         9           0.4537           0.0080            8.04m\n",
      "        10           0.4456           0.0066            7.87m\n",
      "        20           0.4014           0.0021            6.39m\n",
      "        30           0.3839           0.0006            4.95m\n",
      "        40           0.3708           0.0005            3.71m\n",
      "        50           0.3645           0.0002            2.58m\n",
      "        60           0.3604           0.0001            1.59m\n",
      "        70           0.3555          -0.0000           45.26s\n",
      "        80           0.3517           0.0000            0.00s\n"
     ]
    },
    {
     "name": "stderr",
     "output_type": "stream",
     "text": [
      "[Parallel(n_jobs=1)]: Done  80 out of  80 | elapsed:  1.5min finished\n",
      "[Parallel(n_jobs=1)]: Done  80 out of  80 | elapsed:    1.7s finished\n",
      "[Parallel(n_jobs=1)]: Done  80 out of  80 | elapsed:  1.5min finished\n",
      "[Parallel(n_jobs=1)]: Done  80 out of  80 | elapsed:    1.7s finished\n",
      "[Parallel(n_jobs=1)]: Done  80 out of  80 | elapsed:  1.5min finished\n",
      "[Parallel(n_jobs=1)]: Done  80 out of  80 | elapsed:    1.6s finished\n",
      "[Parallel(n_jobs=1)]: Done  80 out of  80 | elapsed:  1.6min finished\n",
      "[Parallel(n_jobs=1)]: Done  80 out of  80 | elapsed:    1.8s finished\n",
      "[Parallel(n_jobs=1)]: Done  80 out of  80 | elapsed:  1.6min finished\n",
      "[Parallel(n_jobs=1)]: Done  80 out of  80 | elapsed:    1.7s finished\n",
      "[Parallel(n_jobs=1)]: Done  80 out of  80 | elapsed:  2.2min finished\n",
      "[Parallel(n_jobs=1)]: Done  80 out of  80 | elapsed:    2.2s finished\n"
     ]
    }
   ],
   "source": [
    "# Stack models\n",
    "# Returns new dataset with out-of-fold predictions\n",
    "pipeline = ModelsPipeline(model_gbdt, model_rf)\n",
    "stack_ds = pipeline.stack(k=5, seed=621)"
   ]
  },
  {
   "cell_type": "code",
   "execution_count": 16,
   "metadata": {},
   "outputs": [],
   "source": [
    "# Train LinearRegression on stacked data (second stage)\n",
    "stacker = Regressor(dataset=stack_ds, estimator=LinearRegression)\n",
    "results = stacker.predict()\n",
    "Submission['Proba'] = results\n",
    "Submission.to_csv('stack_preds.csv', index=False, header=False)"
   ]
  },
  {
   "cell_type": "code",
   "execution_count": 23,
   "metadata": {},
   "outputs": [
    {
     "name": "stdout",
     "output_type": "stream",
     "text": [
      "Metric: roc_auc_score\n",
      "Folds accuracy: [0.9003401112589613, 0.8987312523495665, 0.9035328764639095, 0.9009359857845852, 0.9020440833287333]\n",
      "Mean accuracy: 0.9011168618371512\n",
      "Standard Deviation: 0.0016139427874324295\n",
      "Variance: 2.6048113211051603e-06\n"
     ]
    }
   ],
   "source": [
    "# Validate results using 10 fold cross-validation\n",
    "val_results = stacker.validate(k=5, scorer=metrics.roc_auc_score)"
   ]
  }
 ],
 "metadata": {
  "kernelspec": {
   "display_name": "Python 3",
   "language": "python",
   "name": "python3"
  },
  "language_info": {
   "codemirror_mode": {
    "name": "ipython",
    "version": 3
   },
   "file_extension": ".py",
   "mimetype": "text/x-python",
   "name": "python",
   "nbconvert_exporter": "python",
   "pygments_lexer": "ipython3",
   "version": "3.6.5"
  }
 },
 "nbformat": 4,
 "nbformat_minor": 2
}
