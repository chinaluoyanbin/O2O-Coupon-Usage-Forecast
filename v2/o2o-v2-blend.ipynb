{
 "cells": [
  {
   "cell_type": "code",
   "execution_count": 1,
   "metadata": {},
   "outputs": [],
   "source": [
    "import pandas as pd\n",
    "import numpy as np\n",
    "from datetime import date\n",
    "import os\n",
    "import matplotlib.pyplot as plt\n",
    "import seaborn as sns\n",
    "import logging\n",
    "\n",
    "# %env JOBLIB_TEMP_FOLDER=/tmp\n",
    "%matplotlib inline\n",
    "\n",
    "from xgboost.sklearn import XGBClassifier\n",
    "from sklearn.ensemble import GradientBoostingClassifier\n",
    "from sklearn.linear_model import LogisticRegression, LinearRegression\n",
    "from sklearn.ensemble import RandomForestClassifier\n",
    "from heamy.dataset import Dataset\n",
    "from heamy.estimator import Regressor, Classifier\n",
    "from heamy.pipeline import ModelsPipeline\n",
    "\n",
    "from sklearn.model_selection import GridSearchCV\n",
    "from sklearn.feature_selection import RFE\n",
    "from sklearn.preprocessing import MinMaxScaler\n",
    "from sklearn import metrics\n",
    "\n",
    "import warnings\n",
    "warnings.filterwarnings('ignore')\n",
    "\n",
    "# pd.set_option('display.max_rows', None)\n",
    "pd.set_option('display.max_columns', None)\n",
    "logger = logging.getLogger()\n",
    "logger.setLevel(logging.INFO)\n",
    "logger_output = logging.FileHandler('o2o-v2-blend.log', mode='a')\n",
    "logger_output.setLevel(logging.DEBUG)\n",
    "formatter = logging.Formatter(\"[%(asctime)s]: %(message)s\")\n",
    "logger_output.setFormatter(formatter)\n",
    "logger.addHandler(logger_output)"
   ]
  },
  {
   "cell_type": "code",
   "execution_count": 2,
   "metadata": {},
   "outputs": [],
   "source": [
    "def get_model_input(model='gbdt', set_param=False, train=False, pred=False):\n",
    "    dataset1 = pd.read_csv('../input/dataset1.csv')\n",
    "    dataset2 = pd.read_csv('../input/dataset2.csv')\n",
    "    dataset3 = pd.read_csv('../input/dataset3.csv')\n",
    "    Submission = pd.read_csv('../input/Submission.csv')\n",
    "    print('...read dataset complete...')\n",
    "\n",
    "    if model != 'xgb':\n",
    "        # 如果模型不是xgb填充-999\n",
    "        dataset1.fillna(-999, inplace=True)\n",
    "        dataset2.fillna(-999, inplace=True)\n",
    "        dataset3.fillna(-999, inplace=True)\n",
    "    dataset = pd.concat([dataset1, dataset2], axis=0)\n",
    "    if set_param:\n",
    "        Y_train = dataset1[['label']]\n",
    "        X_train = dataset1.drop(columns='label')\n",
    "        return X_train, Y_train\n",
    "    if train:\n",
    "        split_point = len(dataset) * 4 // 5\n",
    "        train_data = dataset.iloc[: split_point, :]\n",
    "        test_data = dataset.iloc[split_point:, :]\n",
    "        Y_train = train_data[['label']]\n",
    "        X_train = train_data.drop(columns='label')\n",
    "        Y_test = test_data[['label']]\n",
    "        X_test = test_data.drop(columns='label')\n",
    "        print(dataset.shape, train_data.shape, test_data.shape)\n",
    "        return X_train, Y_train, X_test, Y_test\n",
    "    if pred:\n",
    "        Y_train = dataset[['label']]\n",
    "        X_train = dataset.drop(columns='label')\n",
    "        X_pred = dataset3\n",
    "        return X_train, Y_train, X_pred, Submission"
   ]
  },
  {
   "cell_type": "code",
   "execution_count": 3,
   "metadata": {},
   "outputs": [
    {
     "name": "stdout",
     "output_type": "stream",
     "text": [
      "...read dataset complete...\n"
     ]
    }
   ],
   "source": [
    "# blend\n",
    "# load data\n",
    "X_train, Y_train, X_pred, Submission = get_model_input(model='blend', pred=True)"
   ]
  },
  {
   "cell_type": "code",
   "execution_count": 4,
   "metadata": {},
   "outputs": [],
   "source": [
    "# creat dataset\n",
    "dataset = Dataset(X_train, Y_train, X_pred)"
   ]
  },
  {
   "cell_type": "code",
   "execution_count": 5,
   "metadata": {},
   "outputs": [],
   "source": [
    "# initialize model\n",
    "gbdt_params = {'verbose': 1, 'learning_rate': 0.1, 'n_estimators': 80, 'subsample': 0.8, 'max_features': 'sqrt', 'min_samples_leaf': 60, 'min_samples_split': 210, 'max_depth': 12}\n",
    "model_gbdt = Classifier(dataset=dataset, estimator=GradientBoostingClassifier, parameters=gbdt_params, name='gbdt')\n",
    "rf_params = {'verbose': 1, 'n_estimators': 80, 'max_features': 'sqrt', 'min_samples_leaf': 20, 'min_samples_split': 60, 'max_depth': 20}\n",
    "model_rf = Classifier(dataset=dataset, estimator=RandomForestClassifier, parameters=rf_params, name='rf')"
   ]
  },
  {
   "cell_type": "code",
   "execution_count": 6,
   "metadata": {},
   "outputs": [
    {
     "name": "stdout",
     "output_type": "stream",
     "text": [
      "      Iter       Train Loss      OOB Improve   Remaining Time \n",
      "         1           0.5921           0.0513            7.75m\n",
      "         2           0.5572           0.0322            7.22m\n",
      "         3           0.5320           0.0241            6.91m\n",
      "         4           0.5119           0.0183            6.66m\n",
      "         5           0.4967           0.0152            6.55m\n",
      "         6           0.4839           0.0124            6.51m\n",
      "         7           0.4706           0.0111            6.23m\n",
      "         8           0.4612           0.0087            6.17m\n",
      "         9           0.4526           0.0080            6.09m\n",
      "        10           0.4455           0.0064            5.97m\n",
      "        20           0.4018           0.0017            4.84m\n",
      "        30           0.3815           0.0007            3.78m\n",
      "        40           0.3707           0.0003            2.83m\n",
      "        50           0.3635           0.0003            1.98m\n",
      "        60           0.3584           0.0001            1.23m\n",
      "        70           0.3532          -0.0000           34.99s\n",
      "        80           0.3485          -0.0000            0.00s\n"
     ]
    },
    {
     "name": "stderr",
     "output_type": "stream",
     "text": [
      "[Parallel(n_jobs=1)]: Done  80 out of  80 | elapsed:  1.8min finished\n",
      "[Parallel(n_jobs=1)]: Done  80 out of  80 | elapsed:    4.8s finished\n"
     ]
    }
   ],
   "source": [
    "# Blend models\n",
    "# Returns new dataset\n",
    "pipeline = ModelsPipeline(model_gbdt, model_rf)\n",
    "blend_ds = pipeline.blend(proportion=0.2, seed=621)"
   ]
  },
  {
   "cell_type": "code",
   "execution_count": 7,
   "metadata": {},
   "outputs": [],
   "source": [
    "# Train LinearRegression on blended data (second stage)\n",
    "blender = Regressor(dataset=blend_ds, estimator=LinearRegression)\n",
    "results = blender.predict()\n",
    "Submission['Proba'] = results\n",
    "Submission.to_csv('blend_preds.csv', index=False, header=False)"
   ]
  },
  {
   "cell_type": "code",
   "execution_count": 10,
   "metadata": {},
   "outputs": [
    {
     "name": "stdout",
     "output_type": "stream",
     "text": [
      "Metric: roc_auc_score\n",
      "Folds accuracy: [0.8969898121801695, 0.9022143528915822, 0.9024800566156469, 0.9029154449240097, 0.9078609308271796]\n",
      "Mean accuracy: 0.9024921194877177\n",
      "Standard Deviation: 0.003445461511184118\n",
      "Variance: 1.1871205025051145e-05\n"
     ]
    }
   ],
   "source": [
    "# Validate results using 5 fold cross-validation\n",
    "val_results = blender.validate(k=5, scorer=metrics.roc_auc_score)"
   ]
  }
 ],
 "metadata": {
  "kernelspec": {
   "display_name": "Python 3",
   "language": "python",
   "name": "python3"
  },
  "language_info": {
   "codemirror_mode": {
    "name": "ipython",
    "version": 3
   },
   "file_extension": ".py",
   "mimetype": "text/x-python",
   "name": "python",
   "nbconvert_exporter": "python",
   "pygments_lexer": "ipython3",
   "version": "3.6.5"
  }
 },
 "nbformat": 4,
 "nbformat_minor": 2
}
