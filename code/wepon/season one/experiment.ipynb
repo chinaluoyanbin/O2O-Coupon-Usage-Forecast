{
 "cells": [
  {
   "cell_type": "code",
   "execution_count": 5,
   "metadata": {},
   "outputs": [],
   "source": [
    "import pandas as pd\n",
    "import xgboost as xgb"
   ]
  },
  {
   "cell_type": "code",
   "execution_count": 42,
   "metadata": {},
   "outputs": [],
   "source": [
    "dataset1 = pd.read_csv('data/dataset1.csv')\n",
    "dataset1.label.replace(-1, 0, inplace=True)\n",
    "dataset2 = pd.read_csv('data/dataset2.csv')\n",
    "dataset2.label.replace(-1, 0, inplace=True)\n",
    "dataset3 = pd.read_csv('data/dataset3.csv')"
   ]
  },
  {
   "cell_type": "code",
   "execution_count": 45,
   "metadata": {},
   "outputs": [
    {
     "name": "stdout",
     "output_type": "stream",
     "text": [
      "(134416, 52) (252481, 52) (112803, 52)\n"
     ]
    }
   ],
   "source": [
    "dataset1.drop_duplicates(inplace=True)\n",
    "dataset2.drop_duplicates(inplace=True)\n",
    "dataset3.drop_duplicates(inplace=True)\n",
    "\n",
    "dataset12 = pd.concat([dataset1, dataset2], axis=0)\n",
    "\n",
    "dataset1_y = dataset1.label\n",
    "dataset1_x = dataset1.drop(\n",
    "    ['user_id', 'label', 'day_gap_before', 'day_gap_after'],\n",
    "    axis=1)  # 'day_gap_before','day_gap_after' cause overfitting, 0.77\n",
    "dataset2_y = dataset2.label\n",
    "dataset2_x = dataset2.drop(\n",
    "    ['user_id', 'label', 'day_gap_before', 'day_gap_after'], axis=1)\n",
    "dataset12_y = dataset12.label\n",
    "dataset12_x = dataset12.drop(\n",
    "    ['user_id', 'label', 'day_gap_before', 'day_gap_after'], axis=1)\n",
    "dataset3_preds = dataset3[['user_id', 'coupon_id', 'date_received']]\n",
    "dataset3_x = dataset3.drop(\n",
    "    [\n",
    "        'user_id', 'coupon_id', 'date_received', 'day_gap_before',\n",
    "        'day_gap_after'\n",
    "    ],\n",
    "    axis=1)\n",
    "\n",
    "print(dataset1_x.shape, dataset2_x.shape, dataset3_x.shape)"
   ]
  },
  {
   "cell_type": "code",
   "execution_count": 47,
   "metadata": {},
   "outputs": [],
   "source": [
    "dataset1 = xgb.DMatrix(dataset1_x, label=dataset1_y)\n",
    "dataset2 = xgb.DMatrix(dataset2_x, label=dataset2_y)\n",
    "dataset12 = xgb.DMatrix(dataset12_x, label=dataset12_y)\n",
    "dataset3 = xgb.DMatrix(dataset3_x)"
   ]
  }
 ],
 "metadata": {
  "kernelspec": {
   "display_name": "Python 3",
   "language": "python",
   "name": "python3"
  },
  "language_info": {
   "codemirror_mode": {
    "name": "ipython",
    "version": 3
   },
   "file_extension": ".py",
   "mimetype": "text/x-python",
   "name": "python",
   "nbconvert_exporter": "python",
   "pygments_lexer": "ipython3",
   "version": "3.6.5"
  }
 },
 "nbformat": 4,
 "nbformat_minor": 2
}
