{
 "cells": [
  {
   "cell_type": "code",
   "execution_count": 1,
   "metadata": {},
   "outputs": [],
   "source": [
    "import pandas as pd\n",
    "import numpy as np\n",
    "from datetime import date\n",
    "import os\n",
    "import matplotlib.pyplot as plt\n",
    "import seaborn as sns\n",
    "import logging\n",
    "\n",
    "# %env JOBLIB_TEMP_FOLDER=/tmp\n",
    "%matplotlib inline\n",
    "\n",
    "from xgboost.sklearn import XGBClassifier\n",
    "from sklearn.ensemble import GradientBoostingClassifier\n",
    "from sklearn.linear_model import LogisticRegression\n",
    "from sklearn.ensemble import RandomForestClassifier\n",
    "from heamy.dataset import Dataset\n",
    "from heamy.estimator import Regressor, Classifier\n",
    "from heamy.pipeline import ModelsPipeline\n",
    "\n",
    "from sklearn.model_selection import GridSearchCV\n",
    "from sklearn.feature_selection import RFE\n",
    "from sklearn.preprocessing import MinMaxScaler\n",
    "from sklearn import metrics\n",
    "\n",
    "import warnings\n",
    "warnings.filterwarnings('ignore')\n",
    "\n",
    "# pd.set_option('display.max_rows', None)\n",
    "pd.set_option('display.max_columns', None)\n",
    "logger = logging.getLogger()\n",
    "logger.setLevel(logging.INFO)\n",
    "logger_output = logging.FileHandler('o2o-v1-stacking.log', mode='a')\n",
    "logger_output.setLevel(logging.DEBUG)\n",
    "formatter = logging.Formatter(\"[%(asctime)s]: %(message)s\")\n",
    "logger_output.setFormatter(formatter)\n",
    "logger.addHandler(logger_output)"
   ]
  },
  {
   "cell_type": "code",
   "execution_count": 2,
   "metadata": {},
   "outputs": [],
   "source": [
    "def get_model_input(model='gbdt', set_param=False, train=False, pred=False):\n",
    "    dataset1 = pd.read_csv('../input/dataset1.csv')\n",
    "    dataset2 = pd.read_csv('../input/dataset2.csv')\n",
    "    dataset3 = pd.read_csv('../input/dataset3.csv')\n",
    "    Submission = pd.read_csv('../input/Submission.csv')\n",
    "    print('...read dataset complete...')\n",
    "\n",
    "    if model != 'xgb':\n",
    "        # 如果模型不是xgb填充-999\n",
    "        dataset1.fillna(-999, inplace=True)\n",
    "        dataset2.fillna(-999, inplace=True)\n",
    "        dataset3.fillna(-999, inplace=True)\n",
    "    dataset = pd.concat([dataset1, dataset2], axis=0)\n",
    "    if set_param:\n",
    "        Y_train = dataset1[['label']]\n",
    "        X_train = dataset1.drop(columns='label')\n",
    "        return X_train, Y_train\n",
    "    if train:\n",
    "        split_point = len(dataset) * 4 // 5\n",
    "        train_data = dataset.iloc[: split_point, :]\n",
    "        test_data = dataset.iloc[split_point:, :]\n",
    "        Y_train = train_data[['label']]\n",
    "        X_train = train_data.drop(columns='label')\n",
    "        Y_test = test_data[['label']]\n",
    "        X_test = test_data.drop(columns='label')\n",
    "        print(dataset.shape, train_data.shape, test_data.shape)\n",
    "        return X_train, Y_train, X_test, Y_test\n",
    "    if pred:\n",
    "        Y_train = dataset[['label']]\n",
    "        X_train = dataset.drop(columns='label')\n",
    "        X_pred = dataset3\n",
    "        return X_train, Y_train, X_pred, Submission"
   ]
  },
  {
   "cell_type": "code",
   "execution_count": 3,
   "metadata": {},
   "outputs": [
    {
     "name": "stdout",
     "output_type": "stream",
     "text": [
      "...read dataset complete...\n"
     ]
    }
   ],
   "source": [
    "# blend\n",
    "# load data\n",
    "X_train, Y_train, X_pred, Submission = get_model_input(model='blend', pred=True)"
   ]
  },
  {
   "cell_type": "code",
   "execution_count": 4,
   "metadata": {},
   "outputs": [],
   "source": [
    "# creat dataset\n",
    "dataset = Dataset(X_train, Y_train, X_pred)"
   ]
  },
  {
   "cell_type": "code",
   "execution_count": 5,
   "metadata": {},
   "outputs": [],
   "source": [
    "# initialize GradientBoostingClassifier\n",
    "gbdt_params = {'learning_rate': 0.01, 'n_estimators': 1000, 'subsample': 0.8, 'max_features': 9, 'min_samples_leaf': 40, 'min_samples_split': 200, 'max_depth': 12}\n",
    "model_gbdt = Classifier(dataset=dataset, estimator=GradientBoostingClassifier, parameters=gbdt_params, name='gbdt')"
   ]
  },
  {
   "cell_type": "code",
   "execution_count": null,
   "metadata": {},
   "outputs": [],
   "source": [
    "# Blend two models\n",
    "# Returns new dataset\n",
    "pipeline = ModelsPipeline(model_gbdt)\n",
    "blend_ds = pipeline.blend(proportion=0.2,seed=621)"
   ]
  },
  {
   "cell_type": "code",
   "execution_count": null,
   "metadata": {},
   "outputs": [],
   "source": [
    "# Train LinearRegression on blended data (second stage)\n",
    "blender = Regressor(dataset=stack_ds, estimator=LinearRegression)\n",
    "results = blender.predict()"
   ]
  },
  {
   "cell_type": "code",
   "execution_count": null,
   "metadata": {},
   "outputs": [],
   "source": [
    "print(results.shape)\n",
    "results"
   ]
  },
  {
   "cell_type": "code",
   "execution_count": null,
   "metadata": {},
   "outputs": [],
   "source": [
    "# Validate results using 5 fold cross-validation\n",
    "results = blender.validate(k=5,scorer=mean_absolute_error)"
   ]
  },
  {
   "cell_type": "code",
   "execution_count": null,
   "metadata": {},
   "outputs": [],
   "source": [
    "print(results.shape)\n",
    "results"
   ]
  },
  {
   "cell_type": "code",
   "execution_count": null,
   "metadata": {},
   "outputs": [],
   "source": []
  }
 ],
 "metadata": {
  "kernelspec": {
   "display_name": "Python 3",
   "language": "python",
   "name": "python3"
  },
  "language_info": {
   "codemirror_mode": {
    "name": "ipython",
    "version": 3
   },
   "file_extension": ".py",
   "mimetype": "text/x-python",
   "name": "python",
   "nbconvert_exporter": "python",
   "pygments_lexer": "ipython3",
   "version": "3.6.5"
  }
 },
 "nbformat": 4,
 "nbformat_minor": 2
}
