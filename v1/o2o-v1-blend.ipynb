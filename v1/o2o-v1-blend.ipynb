{
 "cells": [
  {
   "cell_type": "code",
   "execution_count": 12,
   "metadata": {},
   "outputs": [],
   "source": [
    "import pandas as pd\n",
    "import numpy as np\n",
    "from datetime import date\n",
    "import os\n",
    "import matplotlib.pyplot as plt\n",
    "import seaborn as sns\n",
    "import logging\n",
    "\n",
    "# %env JOBLIB_TEMP_FOLDER=/tmp\n",
    "%matplotlib inline\n",
    "\n",
    "from xgboost.sklearn import XGBClassifier\n",
    "from sklearn.ensemble import GradientBoostingClassifier\n",
    "from sklearn.linear_model import LogisticRegression, LinearRegression\n",
    "from sklearn.ensemble import RandomForestClassifier\n",
    "from heamy.dataset import Dataset\n",
    "from heamy.estimator import Regressor, Classifier\n",
    "from heamy.pipeline import ModelsPipeline\n",
    "\n",
    "from sklearn.model_selection import GridSearchCV\n",
    "from sklearn.feature_selection import RFE\n",
    "from sklearn.preprocessing import MinMaxScaler\n",
    "from sklearn import metrics\n",
    "\n",
    "import warnings\n",
    "warnings.filterwarnings('ignore')\n",
    "\n",
    "# pd.set_option('display.max_rows', None)\n",
    "pd.set_option('display.max_columns', None)\n",
    "logger = logging.getLogger()\n",
    "logger.setLevel(logging.INFO)\n",
    "logger_output = logging.FileHandler('o2o-v1-stacking.log', mode='a')\n",
    "logger_output.setLevel(logging.DEBUG)\n",
    "formatter = logging.Formatter(\"[%(asctime)s]: %(message)s\")\n",
    "logger_output.setFormatter(formatter)\n",
    "logger.addHandler(logger_output)"
   ]
  },
  {
   "cell_type": "code",
   "execution_count": 2,
   "metadata": {},
   "outputs": [],
   "source": [
    "def get_model_input(model='gbdt', set_param=False, train=False, pred=False):\n",
    "    dataset1 = pd.read_csv('../input/dataset1.csv')\n",
    "    dataset2 = pd.read_csv('../input/dataset2.csv')\n",
    "    dataset3 = pd.read_csv('../input/dataset3.csv')\n",
    "    Submission = pd.read_csv('../input/Submission.csv')\n",
    "    print('...read dataset complete...')\n",
    "\n",
    "    if model != 'xgb':\n",
    "        # 如果模型不是xgb填充-999\n",
    "        dataset1.fillna(-999, inplace=True)\n",
    "        dataset2.fillna(-999, inplace=True)\n",
    "        dataset3.fillna(-999, inplace=True)\n",
    "    dataset = pd.concat([dataset1, dataset2], axis=0)\n",
    "    if set_param:\n",
    "        Y_train = dataset1[['label']]\n",
    "        X_train = dataset1.drop(columns='label')\n",
    "        return X_train, Y_train\n",
    "    if train:\n",
    "        split_point = len(dataset) * 4 // 5\n",
    "        train_data = dataset.iloc[: split_point, :]\n",
    "        test_data = dataset.iloc[split_point:, :]\n",
    "        Y_train = train_data[['label']]\n",
    "        X_train = train_data.drop(columns='label')\n",
    "        Y_test = test_data[['label']]\n",
    "        X_test = test_data.drop(columns='label')\n",
    "        print(dataset.shape, train_data.shape, test_data.shape)\n",
    "        return X_train, Y_train, X_test, Y_test\n",
    "    if pred:\n",
    "        Y_train = dataset[['label']]\n",
    "        X_train = dataset.drop(columns='label')\n",
    "        X_pred = dataset3\n",
    "        return X_train, Y_train, X_pred, Submission"
   ]
  },
  {
   "cell_type": "code",
   "execution_count": 3,
   "metadata": {},
   "outputs": [
    {
     "name": "stdout",
     "output_type": "stream",
     "text": [
      "...read dataset complete...\n"
     ]
    }
   ],
   "source": [
    "# blend\n",
    "# load data\n",
    "X_train, Y_train, X_pred, Submission = get_model_input(model='blend', pred=True)"
   ]
  },
  {
   "cell_type": "code",
   "execution_count": 4,
   "metadata": {},
   "outputs": [],
   "source": [
    "# creat dataset\n",
    "dataset = Dataset(X_train, Y_train, X_pred)"
   ]
  },
  {
   "cell_type": "code",
   "execution_count": 7,
   "metadata": {},
   "outputs": [],
   "source": [
    "# initialize GradientBoostingClassifier\n",
    "gbdt_params = {'verbose': 1, 'learning_rate': 0.1, 'n_estimators': 80, 'subsample': 0.8, 'max_features': 9, 'min_samples_leaf': 40, 'min_samples_split': 200, 'max_depth': 12}\n",
    "model_gbdt = Classifier(dataset=dataset, estimator=GradientBoostingClassifier, parameters=gbdt_params, name='gbdt')"
   ]
  },
  {
   "cell_type": "code",
   "execution_count": 8,
   "metadata": {},
   "outputs": [
    {
     "name": "stdout",
     "output_type": "stream",
     "text": [
      "      Iter       Train Loss      OOB Improve   Remaining Time \n",
      "         1           0.5892           0.0538            5.70m\n",
      "         2           0.5556           0.0319            5.10m\n",
      "         3           0.5325           0.0224            4.79m\n",
      "         4           0.5147           0.0172            5.55m\n",
      "         5           0.4998           0.0146            5.99m\n",
      "         6           0.4856           0.0116            6.22m\n",
      "         7           0.4730           0.0103            6.53m\n",
      "         8           0.4633           0.0084            6.69m\n",
      "         9           0.4539           0.0076            6.71m\n",
      "        10           0.4482           0.0067            6.85m\n",
      "        20           0.4032           0.0018            5.55m\n",
      "        30           0.3848           0.0006            4.28m\n",
      "        40           0.3734           0.0004            3.20m\n",
      "        50           0.3661           0.0003            2.24m\n",
      "        60           0.3598           0.0000            1.44m\n",
      "        70           0.3547           0.0000           42.05s\n",
      "        80           0.3508           0.0000            0.00s\n"
     ]
    }
   ],
   "source": [
    "# Blend two models\n",
    "# Returns new dataset\n",
    "pipeline = ModelsPipeline(model_gbdt)\n",
    "blend_ds = pipeline.blend(proportion=0.2, seed=621)"
   ]
  },
  {
   "cell_type": "code",
   "execution_count": 13,
   "metadata": {},
   "outputs": [],
   "source": [
    "# Train LinearRegression on blended data (second stage)\n",
    "blender = Regressor(dataset=blend_ds, estimator=LinearRegression)\n",
    "results = blender.predict()"
   ]
  },
  {
   "cell_type": "code",
   "execution_count": 14,
   "metadata": {},
   "outputs": [
    {
     "name": "stdout",
     "output_type": "stream",
     "text": [
      "(116204, 1)\n"
     ]
    },
    {
     "data": {
      "text/plain": [
       "array([[0.02012357],\n",
       "       [0.05021644],\n",
       "       [0.05229346],\n",
       "       ...,\n",
       "       [0.05966063],\n",
       "       [0.08550992],\n",
       "       [0.06294739]])"
      ]
     },
     "execution_count": 14,
     "metadata": {},
     "output_type": "execute_result"
    }
   ],
   "source": [
    "print(results.shape)\n",
    "results"
   ]
  },
  {
   "cell_type": "code",
   "execution_count": 16,
   "metadata": {},
   "outputs": [],
   "source": [
    "# Validate results using 5 fold cross-validation\n",
    "results = blender.validate(k=5)"
   ]
  },
  {
   "cell_type": "code",
   "execution_count": 18,
   "metadata": {},
   "outputs": [
    {
     "data": {
      "text/plain": [
       "([array([[0],\n",
       "         [0],\n",
       "         [0],\n",
       "         ...,\n",
       "         [0],\n",
       "         [0],\n",
       "         [0]], dtype=int64), array([[0],\n",
       "         [1],\n",
       "         [0],\n",
       "         ...,\n",
       "         [0],\n",
       "         [0],\n",
       "         [0]], dtype=int64), array([[0],\n",
       "         [0],\n",
       "         [0],\n",
       "         ...,\n",
       "         [0],\n",
       "         [0],\n",
       "         [0]], dtype=int64), array([[0],\n",
       "         [1],\n",
       "         [0],\n",
       "         ...,\n",
       "         [1],\n",
       "         [0],\n",
       "         [0]], dtype=int64), array([[0],\n",
       "         [0],\n",
       "         [0],\n",
       "         ...,\n",
       "         [0],\n",
       "         [0],\n",
       "         [0]], dtype=int64)], [array([[0.00258482],\n",
       "         [0.10541922],\n",
       "         [0.00144992],\n",
       "         ...,\n",
       "         [0.01353952],\n",
       "         [0.04069764],\n",
       "         [0.01465232]]), array([[0.02472527],\n",
       "         [0.86899181],\n",
       "         [0.07765581],\n",
       "         ...,\n",
       "         [0.00469142],\n",
       "         [0.10899011],\n",
       "         [0.01078428]]), array([[0.01637234],\n",
       "         [0.00331525],\n",
       "         [0.00194804],\n",
       "         ...,\n",
       "         [0.00069003],\n",
       "         [0.0650459 ],\n",
       "         [0.00116002]]), array([[0.00461723],\n",
       "         [0.2164244 ],\n",
       "         [0.05931428],\n",
       "         ...,\n",
       "         [0.30346398],\n",
       "         [0.03159205],\n",
       "         [0.00129127]]), array([[0.03194859],\n",
       "         [0.04790798],\n",
       "         [0.14617602],\n",
       "         ...,\n",
       "         [0.01092138],\n",
       "         [0.36604422],\n",
       "         [0.1253552 ]])])"
      ]
     },
     "execution_count": 18,
     "metadata": {},
     "output_type": "execute_result"
    }
   ],
   "source": [
    "results"
   ]
  },
  {
   "cell_type": "code",
   "execution_count": 10,
   "metadata": {},
   "outputs": [
    {
     "data": {
      "text/plain": [
       "Dataset(72e3790fc507abf359d2b625e2fea9dd)"
      ]
     },
     "execution_count": 10,
     "metadata": {},
     "output_type": "execute_result"
    }
   ],
   "source": [
    "blend_ds"
   ]
  }
 ],
 "metadata": {
  "kernelspec": {
   "display_name": "Python 3",
   "language": "python",
   "name": "python3"
  },
  "language_info": {
   "codemirror_mode": {
    "name": "ipython",
    "version": 3
   },
   "file_extension": ".py",
   "mimetype": "text/x-python",
   "name": "python",
   "nbconvert_exporter": "python",
   "pygments_lexer": "ipython3",
   "version": "3.6.5"
  }
 },
 "nbformat": 4,
 "nbformat_minor": 2
}
